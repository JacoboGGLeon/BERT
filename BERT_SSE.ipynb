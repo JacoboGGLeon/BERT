{
  "nbformat": 4,
  "nbformat_minor": 0,
  "metadata": {
    "colab": {
      "name": "BERT-SSE.ipynb",
      "provenance": [],
      "machine_shape": "hm",
      "authorship_tag": "ABX9TyPN5nhUclgV6HsguoWPo5sR",
      "include_colab_link": true
    },
    "kernelspec": {
      "name": "python3",
      "display_name": "Python 3"
    },
    "accelerator": "GPU"
  },
  "cells": [
    {
      "cell_type": "markdown",
      "metadata": {
        "id": "view-in-github",
        "colab_type": "text"
      },
      "source": [
        "<a href=\"https://colab.research.google.com/github/JacoboGGLeon/BERT/blob/master/BERT_SSE.ipynb\" target=\"_parent\"><img src=\"https://colab.research.google.com/assets/colab-badge.svg\" alt=\"Open In Colab\"/></a>"
      ]
    },
    {
      "cell_type": "markdown",
      "metadata": {
        "id": "DkUnFlyYYBZI",
        "colab_type": "text"
      },
      "source": [
        "# Semantic Search Engine: semantic similarity"
      ]
    },
    {
      "cell_type": "markdown",
      "metadata": {
        "id": "ZZGSSdOdLIei",
        "colab_type": "text"
      },
      "source": [
        "## Resources\n",
        "\n",
        "*   [Semantic Search](https://github.com/UKPLab/sentence-transformers/blob/master/docs/usage/semantic_search.md)\n",
        "*   [Semantic Search App](https://github.com/evergreenllc2020/nlp/blob/master/semantic%20search%20%20with%20BERT/Semantic%20Search.ipynb)\n",
        "*   [A Million News Headlines [Data]](https://www.kaggle.com/therohk/million-headlines?select=abcnews-date-text.csv)"
      ]
    },
    {
      "cell_type": "markdown",
      "metadata": {
        "id": "P89vhMX-GXxA",
        "colab_type": "text"
      },
      "source": [
        "# Get the Data"
      ]
    },
    {
      "cell_type": "code",
      "metadata": {
        "id": "VMldtRXqEPLI",
        "colab_type": "code",
        "colab": {
          "base_uri": "https://localhost:8080/",
          "height": 34
        },
        "outputId": "adad5144-8964-4796-9512-2ff9491850cc"
      },
      "source": [
        "!pwd"
      ],
      "execution_count": null,
      "outputs": [
        {
          "output_type": "stream",
          "text": [
            "/content\n"
          ],
          "name": "stdout"
        }
      ]
    },
    {
      "cell_type": "code",
      "metadata": {
        "id": "OigLUO7TE2ng",
        "colab_type": "code",
        "colab": {}
      },
      "source": [
        "from google.colab import drive\n",
        "from google.colab import files"
      ],
      "execution_count": null,
      "outputs": []
    },
    {
      "cell_type": "code",
      "metadata": {
        "id": "3Z34LCDlE4GK",
        "colab_type": "code",
        "colab": {
          "base_uri": "https://localhost:8080/",
          "height": 34
        },
        "outputId": "6b5f5650-28d8-4f6f-85e4-d679bcbb1df7"
      },
      "source": [
        "drive.mount('/content/gdrive')"
      ],
      "execution_count": null,
      "outputs": [
        {
          "output_type": "stream",
          "text": [
            "Drive already mounted at /content/gdrive; to attempt to forcibly remount, call drive.mount(\"/content/gdrive\", force_remount=True).\n"
          ],
          "name": "stdout"
        }
      ]
    },
    {
      "cell_type": "code",
      "metadata": {
        "id": "piqx_iXNFo1J",
        "colab_type": "code",
        "colab": {
          "base_uri": "https://localhost:8080/",
          "height": 34
        },
        "outputId": "443b6554-3dc8-4680-fa53-25760cc36a0b"
      },
      "source": [
        "%cd '/content/gdrive/My Drive/DOCTORADO/BERT Semantic Search Engine'"
      ],
      "execution_count": null,
      "outputs": [
        {
          "output_type": "stream",
          "text": [
            "/content/gdrive/My Drive/DOCTORADO/BERT Semantic Search Engine\n"
          ],
          "name": "stdout"
        }
      ]
    },
    {
      "cell_type": "code",
      "metadata": {
        "id": "FLxFf6z6GNXm",
        "colab_type": "code",
        "colab": {
          "base_uri": "https://localhost:8080/",
          "height": 34
        },
        "outputId": "bd3afb21-f926-46a3-c7d7-3ef986af335e"
      },
      "source": [
        "!pwd"
      ],
      "execution_count": null,
      "outputs": [
        {
          "output_type": "stream",
          "text": [
            "/content/gdrive/My Drive/DOCTORADO/BERT Semantic Search Engine\n"
          ],
          "name": "stdout"
        }
      ]
    },
    {
      "cell_type": "code",
      "metadata": {
        "id": "WY8sOoY4IL99",
        "colab_type": "code",
        "colab": {
          "base_uri": "https://localhost:8080/",
          "height": 204
        },
        "outputId": "38a70466-6b38-4778-9226-ff9be4eec808"
      },
      "source": [
        "import zipfile\n",
        "import pandas as pd\n",
        "\n",
        "# data: https://docs.google.com/uc?export=download&id=18oYbgkr9I4xtAzi5jfGHxis30AiD5AfE\n",
        "zf = zipfile.ZipFile('data/1692_1112312_bundle_archive.zip') \n",
        "df = pd.read_csv(zf.open('abcnews-date-text.csv'))\n",
        "df.head()"
      ],
      "execution_count": null,
      "outputs": [
        {
          "output_type": "execute_result",
          "data": {
            "text/html": [
              "<div>\n",
              "<style scoped>\n",
              "    .dataframe tbody tr th:only-of-type {\n",
              "        vertical-align: middle;\n",
              "    }\n",
              "\n",
              "    .dataframe tbody tr th {\n",
              "        vertical-align: top;\n",
              "    }\n",
              "\n",
              "    .dataframe thead th {\n",
              "        text-align: right;\n",
              "    }\n",
              "</style>\n",
              "<table border=\"1\" class=\"dataframe\">\n",
              "  <thead>\n",
              "    <tr style=\"text-align: right;\">\n",
              "      <th></th>\n",
              "      <th>publish_date</th>\n",
              "      <th>headline_text</th>\n",
              "    </tr>\n",
              "  </thead>\n",
              "  <tbody>\n",
              "    <tr>\n",
              "      <th>0</th>\n",
              "      <td>20030219</td>\n",
              "      <td>aba decides against community broadcasting lic...</td>\n",
              "    </tr>\n",
              "    <tr>\n",
              "      <th>1</th>\n",
              "      <td>20030219</td>\n",
              "      <td>act fire witnesses must be aware of defamation</td>\n",
              "    </tr>\n",
              "    <tr>\n",
              "      <th>2</th>\n",
              "      <td>20030219</td>\n",
              "      <td>a g calls for infrastructure protection summit</td>\n",
              "    </tr>\n",
              "    <tr>\n",
              "      <th>3</th>\n",
              "      <td>20030219</td>\n",
              "      <td>air nz staff in aust strike for pay rise</td>\n",
              "    </tr>\n",
              "    <tr>\n",
              "      <th>4</th>\n",
              "      <td>20030219</td>\n",
              "      <td>air nz strike to affect australian travellers</td>\n",
              "    </tr>\n",
              "  </tbody>\n",
              "</table>\n",
              "</div>"
            ],
            "text/plain": [
              "   publish_date                                      headline_text\n",
              "0      20030219  aba decides against community broadcasting lic...\n",
              "1      20030219     act fire witnesses must be aware of defamation\n",
              "2      20030219     a g calls for infrastructure protection summit\n",
              "3      20030219           air nz staff in aust strike for pay rise\n",
              "4      20030219      air nz strike to affect australian travellers"
            ]
          },
          "metadata": {
            "tags": []
          },
          "execution_count": 13
        }
      ]
    },
    {
      "cell_type": "code",
      "metadata": {
        "id": "fNgcTjTHKNhS",
        "colab_type": "code",
        "colab": {
          "base_uri": "https://localhost:8080/",
          "height": 221
        },
        "outputId": "561cf7dc-ec1c-4140-8fd3-73a9579aef44"
      },
      "source": [
        "df_copy = df.copy()\n",
        "print('Shape:', df_copy.shape)\n",
        "df_copy.head()"
      ],
      "execution_count": null,
      "outputs": [
        {
          "output_type": "stream",
          "text": [
            "Shape: (1186018, 2)\n"
          ],
          "name": "stdout"
        },
        {
          "output_type": "execute_result",
          "data": {
            "text/html": [
              "<div>\n",
              "<style scoped>\n",
              "    .dataframe tbody tr th:only-of-type {\n",
              "        vertical-align: middle;\n",
              "    }\n",
              "\n",
              "    .dataframe tbody tr th {\n",
              "        vertical-align: top;\n",
              "    }\n",
              "\n",
              "    .dataframe thead th {\n",
              "        text-align: right;\n",
              "    }\n",
              "</style>\n",
              "<table border=\"1\" class=\"dataframe\">\n",
              "  <thead>\n",
              "    <tr style=\"text-align: right;\">\n",
              "      <th></th>\n",
              "      <th>publish_date</th>\n",
              "      <th>headline_text</th>\n",
              "    </tr>\n",
              "  </thead>\n",
              "  <tbody>\n",
              "    <tr>\n",
              "      <th>0</th>\n",
              "      <td>20030219</td>\n",
              "      <td>aba decides against community broadcasting lic...</td>\n",
              "    </tr>\n",
              "    <tr>\n",
              "      <th>1</th>\n",
              "      <td>20030219</td>\n",
              "      <td>act fire witnesses must be aware of defamation</td>\n",
              "    </tr>\n",
              "    <tr>\n",
              "      <th>2</th>\n",
              "      <td>20030219</td>\n",
              "      <td>a g calls for infrastructure protection summit</td>\n",
              "    </tr>\n",
              "    <tr>\n",
              "      <th>3</th>\n",
              "      <td>20030219</td>\n",
              "      <td>air nz staff in aust strike for pay rise</td>\n",
              "    </tr>\n",
              "    <tr>\n",
              "      <th>4</th>\n",
              "      <td>20030219</td>\n",
              "      <td>air nz strike to affect australian travellers</td>\n",
              "    </tr>\n",
              "  </tbody>\n",
              "</table>\n",
              "</div>"
            ],
            "text/plain": [
              "   publish_date                                      headline_text\n",
              "0      20030219  aba decides against community broadcasting lic...\n",
              "1      20030219     act fire witnesses must be aware of defamation\n",
              "2      20030219     a g calls for infrastructure protection summit\n",
              "3      20030219           air nz staff in aust strike for pay rise\n",
              "4      20030219      air nz strike to affect australian travellers"
            ]
          },
          "metadata": {
            "tags": []
          },
          "execution_count": 14
        }
      ]
    },
    {
      "cell_type": "code",
      "metadata": {
        "id": "yRZ1UIiJKjKp",
        "colab_type": "code",
        "colab": {
          "base_uri": "https://localhost:8080/",
          "height": 102
        },
        "outputId": "9927b608-e961-460b-9d7b-f0bdc875863f"
      },
      "source": [
        "sentences = df_copy['headline_text'].values.tolist()\n",
        "\n",
        "sentences[0:5] # head"
      ],
      "execution_count": null,
      "outputs": [
        {
          "output_type": "execute_result",
          "data": {
            "text/plain": [
              "['aba decides against community broadcasting licence',\n",
              " 'act fire witnesses must be aware of defamation',\n",
              " 'a g calls for infrastructure protection summit',\n",
              " 'air nz staff in aust strike for pay rise',\n",
              " 'air nz strike to affect australian travellers']"
            ]
          },
          "metadata": {
            "tags": []
          },
          "execution_count": 29
        }
      ]
    },
    {
      "cell_type": "code",
      "metadata": {
        "id": "jqF9JwxDMBfB",
        "colab_type": "code",
        "colab": {
          "base_uri": "https://localhost:8080/",
          "height": 34
        },
        "outputId": "29cb411b-7ef5-4866-ebb0-a2a0d89dba71"
      },
      "source": [
        "end - start"
      ],
      "execution_count": null,
      "outputs": [
        {
          "output_type": "execute_result",
          "data": {
            "text/plain": [
              "11.802895784378052"
            ]
          },
          "metadata": {
            "tags": []
          },
          "execution_count": 32
        }
      ]
    },
    {
      "cell_type": "code",
      "metadata": {
        "id": "yVnKqoC9K9Pg",
        "colab_type": "code",
        "colab": {
          "base_uri": "https://localhost:8080/",
          "height": 34
        },
        "outputId": "7a754723-8dfc-4ada-c4d6-c983df7c0ea4"
      },
      "source": [
        "import time\n",
        "\n",
        "start = time.time()\n",
        "\n",
        "# Each sentence is encoded as a 1-D vector with 78 columns\n",
        "sentence_embeddings = model.encode(sentences)\n",
        "\n",
        "end = time.time()\n",
        "print(f'Elapsed time: {end - start} seconds')\n"
      ],
      "execution_count": null,
      "outputs": [
        {
          "output_type": "stream",
          "text": [
            "Elapsed time: 11.669036149978638 seconds\n"
          ],
          "name": "stdout"
        }
      ]
    },
    {
      "cell_type": "code",
      "metadata": {
        "id": "ECbscXlpQJB0",
        "colab_type": "code",
        "colab": {
          "base_uri": "https://localhost:8080/",
          "height": 68
        },
        "outputId": "0a33bf3e-ae00-4dff-e60e-b981ff8c6f5e"
      },
      "source": [
        "print('BERT embedding vector length:', len(sentence_embeddings[0]))\n",
        "print('BERT embedding vector sample (only 10 values):', sentence_embeddings[0][0:10])"
      ],
      "execution_count": null,
      "outputs": [
        {
          "output_type": "stream",
          "text": [
            "BERT embedding vector length: 768\n",
            "BERT embedding vector sample (only 10 values): [ 0.43958837  0.66004586  1.7837522  -0.4980631  -0.0019816   0.26592213\n",
            "  1.1429801  -0.23135123  0.17707673  0.19833586]\n"
          ],
          "name": "stdout"
        }
      ]
    },
    {
      "cell_type": "markdown",
      "metadata": {
        "id": "-fiNfudBGn6q",
        "colab_type": "text"
      },
      "source": [
        "# Word embeddings with BERT\n"
      ]
    },
    {
      "cell_type": "code",
      "metadata": {
        "id": "ztglVozsGuzy",
        "colab_type": "code",
        "colab": {}
      },
      "source": [
        "# !pip install -U sentence-transformers"
      ],
      "execution_count": null,
      "outputs": []
    },
    {
      "cell_type": "code",
      "metadata": {
        "id": "iIXGyuP9AXtl",
        "colab_type": "code",
        "colab": {}
      },
      "source": [
        "from sentence_transformers import SentenceTransformer\n",
        "import scipy\n",
        "import os\n",
        "import pandas as pd"
      ],
      "execution_count": null,
      "outputs": []
    },
    {
      "cell_type": "code",
      "metadata": {
        "id": "KNJAvnOuBewP",
        "colab_type": "code",
        "colab": {}
      },
      "source": [
        "# Load the model BERT model\n",
        "\n",
        "model = SentenceTransformer('bert-base-nli-mean-tokens')"
      ],
      "execution_count": null,
      "outputs": []
    },
    {
      "cell_type": "code",
      "metadata": {
        "id": "v1c7h7KmHbBk",
        "colab_type": "code",
        "colab": {}
      },
      "source": [
        "data = ''\n",
        "input_df = pd.read_csv()\n",
        "input_df = input_df.head(20000)\n",
        "print(input_df.head(20))"
      ],
      "execution_count": null,
      "outputs": []
    },
    {
      "cell_type": "markdown",
      "metadata": {
        "id": "0TpW0lYmMgQm",
        "colab_type": "text"
      },
      "source": [
        "# Semantic Search"
      ]
    },
    {
      "cell_type": "code",
      "metadata": {
        "id": "6G5OLMbZIAxw",
        "colab_type": "code",
        "colab": {}
      },
      "source": [
        "query1 = 'wildfires in australia'\n",
        "query2 = 'global warming impact'\n",
        "\n",
        "queries = [query1, query2]\n",
        "query_embeddings = model.encode(queries)"
      ],
      "execution_count": null,
      "outputs": []
    },
    {
      "cell_type": "code",
      "metadata": {
        "id": "KrxFVKRKN2XS",
        "colab_type": "code",
        "colab": {
          "base_uri": "https://localhost:8080/",
          "height": 255
        },
        "outputId": "cd013b7c-576c-4367-f098-68f52a2878a7"
      },
      "source": [
        "top_k = 3 \n",
        "for query, query_embedding in zip(queries, query_embeddings):\n",
        "    distances = scipy.spatial.distance.cdist([query_embedding], sentence_embeddings, \"cosine\")[0]\n",
        "\n",
        "    results = zip(range(len(distances)), distances)\n",
        "    results = sorted(results, key=lambda x: x[1])\n",
        "\n",
        "    print(\"query:\", query)\n",
        "    print(\"semantic similarity:\")\n",
        "\n",
        "    for idx, distance in results[0:top_k]:\n",
        "        print({sentences[idx].strip()}, '(cosine similarity score: %.4f)' % (1-distance))\n",
        "    \n",
        "    print('\\n')"
      ],
      "execution_count": null,
      "outputs": [
        {
          "output_type": "stream",
          "text": [
            "query: wildfires in australia\n",
            "semantic textual similarity:\n",
            "{'vic bushfires inquiry begins'} (Cosine Similarity Score: 0.7667)\n",
            "{'massive vic bushfire contained'} (Cosine Similarity Score: 0.7602)\n",
            "{'mp visits fire impacted gippsland'} (Cosine Similarity Score: 0.7439)\n",
            "\n",
            "\n",
            "query: global warming impact\n",
            "semantic textual similarity:\n",
            "{'scientists predict global warming deluge in'} (Cosine Similarity Score: 0.8638)\n",
            "{'antarctic rocks could aid global warming'} (Cosine Similarity Score: 0.7776)\n",
            "{'aust market follows global rebound'} (Cosine Similarity Score: 0.7315)\n",
            "\n",
            "\n"
          ],
          "name": "stdout"
        }
      ]
    }
  ]
}